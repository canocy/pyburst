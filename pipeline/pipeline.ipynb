{
 "cells": [
  {
   "cell_type": "markdown",
   "metadata": {},
   "source": [
    "# pyburst demonstration"
   ]
  },
  {
   "cell_type": "code",
   "execution_count": 1,
   "metadata": {
    "collapsed": false
   },
   "outputs": [
    {
     "ename": "NameError",
     "evalue": "name 'get_versions' is not defined",
     "output_type": "error",
     "traceback": [
      "\u001b[0;31m---------------------------------------------------------------------------\u001b[0m",
      "\u001b[0;31mNameError\u001b[0m                                 Traceback (most recent call last)",
      "\u001b[0;32m<ipython-input-1-303fbfe63d43>\u001b[0m in \u001b[0;36m<module>\u001b[0;34m\u001b[0m\n\u001b[1;32m      1\u001b[0m \u001b[0;32mimport\u001b[0m \u001b[0mnumpy\u001b[0m\u001b[0;34m\u001b[0m\u001b[0m\n\u001b[1;32m      2\u001b[0m \u001b[0;32mimport\u001b[0m \u001b[0mmatplotlib\u001b[0m \u001b[0;32mas\u001b[0m \u001b[0mplt\u001b[0m\u001b[0;34m\u001b[0m\u001b[0m\n\u001b[0;32m----> 3\u001b[0;31m \u001b[0;32mimport\u001b[0m \u001b[0mpyburst\u001b[0m \u001b[0;32mas\u001b[0m \u001b[0mpb\u001b[0m\u001b[0;34m\u001b[0m\u001b[0m\n\u001b[0m\u001b[1;32m      4\u001b[0m \u001b[0;32mimport\u001b[0m \u001b[0mpyburst\u001b[0m\u001b[0;34m.\u001b[0m\u001b[0mdetectors\u001b[0m\u001b[0;34m,\u001b[0m \u001b[0mpyburst\u001b[0m\u001b[0;34m.\u001b[0m\u001b[0mcbc\u001b[0m\u001b[0;34m,\u001b[0m \u001b[0mpyburst\u001b[0m\u001b[0;34m.\u001b[0m\u001b[0mskymaps\u001b[0m\u001b[0;34m\u001b[0m\u001b[0m\n\u001b[1;32m      5\u001b[0m \u001b[0;32mimport\u001b[0m \u001b[0mgwpy\u001b[0m\u001b[0;34m\u001b[0m\u001b[0m\n",
      "\u001b[0;32m~/pipeline/pyburst_dev/lib/python3.5/site-packages/pyburst/__init__.py\u001b[0m in \u001b[0;36m<module>\u001b[0;34m\u001b[0m\n\u001b[1;32m     27\u001b[0m \u001b[0;34m\u001b[0m\u001b[0m\n\u001b[1;32m     28\u001b[0m \u001b[0;31m# set package metadata\u001b[0m\u001b[0;34m\u001b[0m\u001b[0;34m\u001b[0m\u001b[0m\n\u001b[0;32m---> 29\u001b[0;31m \u001b[0m__version__\u001b[0m \u001b[0;34m=\u001b[0m \u001b[0mget_versions\u001b[0m\u001b[0;34m(\u001b[0m\u001b[0;34m)\u001b[0m\u001b[0;34m[\u001b[0m\u001b[0;34m'version'\u001b[0m\u001b[0;34m]\u001b[0m\u001b[0;34m\u001b[0m\u001b[0m\n\u001b[0m\u001b[1;32m     30\u001b[0m \u001b[0m__author__\u001b[0m \u001b[0;34m=\u001b[0m \u001b[0;34m\"Eric Chassande-Mottin <eric.chassandemottin@ligo.org>\"\u001b[0m\u001b[0;34m\u001b[0m\u001b[0m\n\u001b[1;32m     31\u001b[0m \u001b[0m__credits__\u001b[0m \u001b[0;34m=\u001b[0m \u001b[0;34m\"The LIGO Scientific Collaboration and the Virgo Collaboration\"\u001b[0m\u001b[0;34m\u001b[0m\u001b[0m\n",
      "\u001b[0;31mNameError\u001b[0m: name 'get_versions' is not defined"
     ]
    }
   ],
   "source": [
    "import numpy\n",
    "import matplotlib as plt\n",
    "import pyburst as pb\n",
    "import pyburst.detectors, pyburst.cbc, pyburst.skymaps\n",
    "import gwpy\n",
    "from gwpy.timeseries import TimeSeries"
   ]
  },
  {
   "cell_type": "code",
   "execution_count": null,
   "metadata": {
    "collapsed": false
   },
   "outputs": [],
   "source": [
    "plt.rcParams['figure.figsize'] = [12.0, 6.0]\n",
    "plt.rcParams['figure.dpi'] = 80\n",
    "plt.rcParams['savefig.dpi'] = 100\n",
    "\n",
    "plt.rcParams['font.size'] = 14\n",
    "plt.rcParams['legend.fontsize'] = 'small'\n",
    "plt.rcParams['figure.titlesize'] = 'medium'"
   ]
  },
  {
   "cell_type": "markdown",
   "metadata": {},
   "source": [
    "## Define detector network"
   ]
  },
  {
   "cell_type": "code",
   "execution_count": null,
   "metadata": {
    "collapsed": false
   },
   "outputs": [],
   "source": [
    "detectors = ['H1', 'L1', 'V1']\n",
    "network = [pb.detectors.Detector(d) for d in detectors]"
   ]
  },
  {
   "cell_type": "markdown",
   "metadata": {},
   "source": [
    "## Seek data from local files"
   ]
  },
  {
   "cell_type": "code",
   "execution_count": null,
   "metadata": {
    "collapsed": false
   },
   "outputs": [],
   "source": [
    "gps = 1187008887\n",
    "offset = +5\n",
    "segment = (int(gps + offset)-5, int(gps + offset)+5)\n",
    "print(segment)\n",
    "\n",
    "datafolder = 'HLV-data'\n",
    "datafiles = ['H-H1_LOSC_CLN_4_V1-1187007040-2048.hdf5', \\\n",
    "            'L-L1_LOSC_CLN_4_V1-1187007040-2048.hdf5', \\\n",
    "            'V-V1_LOSC_CLN_4_V1-1187007040-2048.hdf5']\n",
    "channelname = 'strain'\n",
    "\n",
    "data = []\n",
    "for f,d in zip(datafiles, network):\n",
    "    data.append(TimeSeries.read('/'.join((datafolder,f)), start=segment[0], end=segment[1], format='hdf5.losc'))"
   ]
  },
  {
   "cell_type": "code",
   "execution_count": null,
   "metadata": {
    "collapsed": false
   },
   "outputs": [],
   "source": [
    "sampling_rates = [1./stream.dt.value for stream in data]\n",
    "sampling_rate = sampling_rates[0] if all(rate == sampling_rates[0] for rate in sampling_rates) else None\n",
    "print(\"Sampling rate is {} Hz\".format(sampling_rate))"
   ]
  },
  {
   "cell_type": "code",
   "execution_count": null,
   "metadata": {
    "collapsed": false
   },
   "outputs": [],
   "source": [
    "# Define injection time and sky position\n",
    "time = sum(segment)/len(segment)\n",
    "ra = -90.\n",
    "dec = +45.\n",
    "\n",
    "# Define compact binary (component masses and distance)\n",
    "mass1 = 36 # Msun \n",
    "mass2 = 29 # Msun \n",
    "distance = 100 # Mpc\n",
    "\n",
    "# Define its geometrical parameters (sky position and other angles)\n",
    "iota = 0\n",
    "psi = 0\n",
    "phi_ref = 0\n",
    "\n",
    "# Define waveform model\n",
    "approximant = \"SEOBNRv3\"\n",
    "amplitude_order = 0\n",
    "phase_order = -1\n",
    "\n",
    "# Define frequency range\n",
    "freq_min = 20 # Hz\n",
    "freq_max = sampling_rate/2\n",
    "\n",
    "# Create binary            \n",
    "binary = pb.cbc.Binary(mass1, mass2, distance, pb.cbc.ZERO, pb.cbc.ZERO, 0.0, 0.0, 0, 0, iota, psi)\n",
    "        \n",
    "# Create waveform model\n",
    "model = pb.cbc.Template(approximant, amplitude_order, phase_order, sampling_rate, \\\n",
    "                     freq_min, freq_max, 0.0, phi_ref)\n",
    "\n",
    "# Generate GW polarizations for that binary using that model\n",
    "hplus, hcross = model.time_domain(binary)"
   ]
  },
  {
   "cell_type": "markdown",
   "metadata": {},
   "source": [
    "## Inject signal in observations"
   ]
  },
  {
   "cell_type": "code",
   "execution_count": null,
   "metadata": {
    "collapsed": false
   },
   "outputs": [],
   "source": [
    "hoft = []\n",
    "for detector, obs in zip(network, data):\n",
    "        \n",
    "        # Project polarizations onto detector frame \n",
    "        signal = detector.project_strain(hplus, hcross, time, \\\n",
    "                                         ra, dec, psi)\n",
    "        signal.t0 = time + signal.epoch.value\n",
    "        \n",
    "        # XXX Hack to force unit agreement -- 'strain' is incompatible with lal.DimensionlessUnit XXX\n",
    "        #signal._unit = lal.DimensionlessUnit\n",
    "        #obs._unit = lal.DimensionlessUnit\n",
    "        \n",
    "        # XXX Hack -- noise free observations !! XXX\n",
    "        obs_ = TimeSeries(numpy.zeros(numpy.shape(obs.value)), sample_rate=obs.sample_rate, \\\n",
    "                                 t0=obs.t0, unit=signal._unit)\n",
    "        #obs_.unit = lal.DimensionlessUnit\n",
    "        \n",
    "        # Inject waveform\n",
    "        hoft.append(obs_.inject(signal))"
   ]
  },
  {
   "cell_type": "markdown",
   "metadata": {},
   "source": [
    "## Define sky grid"
   ]
  },
  {
   "cell_type": "code",
   "execution_count": null,
   "metadata": {
    "collapsed": false
   },
   "outputs": [],
   "source": [
    "NSIDE = 16\n",
    "sky = pb.skymaps.Skymap(NSIDE, 'geographic', array, order='nested')"
   ]
  },
  {
   "cell_type": "raw",
   "metadata": {},
   "source": [
    "# unit test for Skymap.value()\n",
    "NSIDE = 32\n",
    "coord_sys = 'equatorial'\n",
    "p = Skypoint(np.random.uniform(high=2.*math.pi), \\\n",
    "             np.random.uniform(low=-math.pi/2,high=math.pi/2), coord_sys)\n",
    "array = np.zeros(healpy.nside2npix(NSIDE))\n",
    "sky = Skymap(NSIDE, coord_sys, array, order='nested')\n",
    "idx = healpy.ang2pix(NSIDE,*p.coords(),nest=True)\n",
    "sky.data[idx] = 1\n",
    "print(sky.value(p)) # should always print 1.0"
   ]
  },
  {
   "cell_type": "raw",
   "metadata": {
    "collapsed": false
   },
   "source": [
    "lon, lat = sky.grid.healpix_to_lonlat(range(sky.grid.npix))\n",
    "lon = lon.value - 2 * np.pi * np.floor((lon.value + np.pi)/(2 * np.pi))  # map from [0, 2 x pi) to [-pi, pi)\n",
    "fig = plt.figure()\n",
    "ax = fig.add_subplot(121)\n",
    "plt.plot(lon, lat, '.')\n",
    "plt.title('HEALPix skygrid')\n",
    "ax = fig.add_subplot(122, projection='mollweide')\n",
    "plt.plot(lon, lat, '.')\n",
    "plt.show()"
   ]
  },
  {
   "cell_type": "markdown",
   "metadata": {},
   "source": [
    "## Compute antenna pattern over the sky grid"
   ]
  },
  {
   "cell_type": "code",
   "execution_count": null,
   "metadata": {
    "collapsed": false
   },
   "outputs": [],
   "source": [
    "antenna_patterns= []\n",
    "for p in sky.grid.healpix_to_skycoord(range(sky.grid.npix)):\n",
    "    antenna_patterns.append([d.antenna_pattern(math.radians(p.ra.value), math.radians(p.dec.value), 0, ref_time=None) \\\n",
    "                             for d in network])\n",
    "    \n",
    "antenna_patterns = np.array(antenna_patterns)"
   ]
  },
  {
   "cell_type": "raw",
   "metadata": {
    "collapsed": false
   },
   "source": [
    "# https://healpy.readthedocs.io/en/latest/healpy_visu.html\n",
    "# https://dcc.ligo.org/public/0118/G1500442/010/ligo-virgo-emfollowup-tutorial.html#5.-Working-with-probability-sky-maps\n",
    "fig = plt.figure()\n",
    "for n, d in enumerate(network):\n",
    "    pattern = np.sqrt(antenna_patterns[:, n, 0]**2 + antenna_patterns[:, n, 1]**2)\n",
    "    healpy.mollview(pattern, nest=True, title='antenna pattern for {}'.format(d))\n",
    "plt.show()"
   ]
  },
  {
   "cell_type": "markdown",
   "metadata": {},
   "source": [
    "## Compute propagation delays over the sky grid"
   ]
  },
  {
   "cell_type": "code",
   "execution_count": null,
   "metadata": {
    "collapsed": false
   },
   "outputs": [],
   "source": [
    "delays = []\n",
    "for p in sky.grid.healpix_to_skycoord(range(sky.grid.npix)):\n",
    "    delays.append([d.time_delay_from_earth_center(math.radians(p.ra.value), math.radians(p.dec.value), \\\n",
    "                                                  ref_time=None) for d in network])\n",
    "    \n",
    "delays = np.array(delays)"
   ]
  },
  {
   "cell_type": "raw",
   "metadata": {
    "collapsed": false
   },
   "source": [
    "fig = plt.figure()\n",
    "for n, d in enumerate(network):\n",
    "    healpy.mollview(1000 * delays[:, n], nest=True, title='propagation delay for {} (msec)'.format(d))\n",
    "plt.show()"
   ]
  },
  {
   "cell_type": "markdown",
   "metadata": {},
   "source": [
    "## Time frequency transforms"
   ]
  },
  {
   "cell_type": "raw",
   "metadata": {
    "collapsed": false
   },
   "source": [
    "tfmaps = list(map(gabor.forward, hoft))"
   ]
  },
  {
   "cell_type": "code",
   "execution_count": null,
   "metadata": {
    "collapsed": false
   },
   "outputs": [],
   "source": [
    "gabor = TimeFreqTransform(\"dgtreal\", \"hanning\", 64, 512)\n",
    "tfmaps = list(map(gabor.forward, hoft))"
   ]
  },
  {
   "cell_type": "markdown",
   "metadata": {},
   "source": [
    "### Noise free observations -- here!!!"
   ]
  },
  {
   "cell_type": "code",
   "execution_count": null,
   "metadata": {
    "collapsed": true
   },
   "outputs": [],
   "source": [
    "tfmaps_ = list(map(gabor.forward, data))"
   ]
  },
  {
   "cell_type": "markdown",
   "metadata": {},
   "source": [
    "## Background spectrum estimate"
   ]
  },
  {
   "cell_type": "markdown",
   "metadata": {},
   "source": [
    "### Noise free observations -- here!!!"
   ]
  },
  {
   "cell_type": "code",
   "execution_count": null,
   "metadata": {
    "collapsed": false
   },
   "outputs": [],
   "source": [
    "# XXX Use robust pyCBC-like median/mean estimate XXX\n",
    "# XXX HACK!! forced noise only XXX\n",
    "strip_edge_size = 5\n",
    "asds = np.array([np.linalg.norm(tfmap.trim_edges(strip_edge_size).data, axis=1) for tfmap in tfmaps_])\n",
    "freqs = np.array([tfmap.freqs(sampling_rate) for tfmap in tfmaps_])"
   ]
  },
  {
   "cell_type": "raw",
   "metadata": {
    "collapsed": false
   },
   "source": [
    "fig, axes = plt.subplots()\n",
    "for f, psd, label in zip(freqs, psds, list(map(str, network))): \n",
    "    plt.loglog(f, asd, label=label)\n",
    "plt.xlabel('frequencies (Hz)')\n",
    "plt.ylabel('amplitude spectral density (AU)')\n",
    "plt.legend(loc='upper center')\n",
    "plt.show()"
   ]
  },
  {
   "cell_type": "markdown",
   "metadata": {},
   "source": [
    "## Whitening"
   ]
  },
  {
   "cell_type": "code",
   "execution_count": null,
   "metadata": {
    "collapsed": false
   },
   "outputs": [],
   "source": [
    "lowf_cutoff = 25 # Hz\n",
    "zero_edge_size = 5\n",
    "whitened_tfmaps = np.array([tfmap.trim_edges(zero_edge_size,0).highpass(lowf_cutoff, sampling_rate).data \\\n",
    "                            / np.reshape(asd, (asd.size,1)) \\\n",
    "                            for tfmap, asd in zip(tfmaps, asds)])"
   ]
  },
  {
   "cell_type": "code",
   "execution_count": null,
   "metadata": {
    "collapsed": false
   },
   "outputs": [],
   "source": [
    "fig, axes = plt.subplots(1, len(network))\n",
    "for ax, d, m in zip(axes, network, whitened_tfmaps):\n",
    "    ax.pcolormesh(np.abs(m))\n",
    "    ax.set_title(d)\n",
    "plt.show()"
   ]
  },
  {
   "cell_type": "markdown",
   "metadata": {},
   "source": [
    "## Main loop -- least square inversion"
   ]
  },
  {
   "cell_type": "markdown",
   "metadata": {},
   "source": [
    "### Compute mixing matrix at each frequencies\n",
    "Note: this can be done only once for an entire segment"
   ]
  },
  {
   "cell_type": "code",
   "execution_count": null,
   "metadata": {
    "collapsed": false
   },
   "outputs": [],
   "source": [
    "phases = np.exp(-2*np.pi*1j* np.einsum('ij,jk->ijk', delays, freqs))\n",
    "mixing = np.einsum('ijk,ijl->iljk', antenna_patterns, phases)\n",
    "mixing_whitened = np.einsum('ijk,jl,ijl->iljk', antenna_patterns, 1/asds, phases)\n",
    "mixing_whitened_inverse = np.linalg.pinv(mixing_whitened)"
   ]
  },
  {
   "cell_type": "markdown",
   "metadata": {},
   "source": [
    "## Pixel selection"
   ]
  },
  {
   "cell_type": "raw",
   "metadata": {},
   "source": [
    "# This is to save the time-frequency images into images for the production of the ad-hoc mask\n",
    "for d, m in zip(network, whitened_tfmaps):\n",
    "    imsave('tfmap_{}.png'.format(d),np.abs(m[3:50,290:340]))"
   ]
  },
  {
   "cell_type": "code",
   "execution_count": null,
   "metadata": {
    "collapsed": false
   },
   "outputs": [],
   "source": [
    "# XXXX Use an ad-hoc mask for now XXXX\n",
    "# This mask was draw by hand and represent the best result one you\n",
    "# obtain with a clever pixel selection algorithm (to be designed)\n",
    "# The mask should be applied to the tile [15:50,250:350]\n",
    "mask = np.logical_not(imread('mask-bbh.png')[:,:,0])\n",
    "#idx_time = np.arange(290,340, dtype=np.intp)\n",
    "idx_time = np.arange(294,344, dtype=np.intp)\n",
    "idx_freq = np.arange(3,50, dtype=np.intp)\n",
    "# idx_time = np.arange(250,350, dtype=np.intp)\n",
    "# idx_freq = np.arange(15,50, dtype=np.intp)\n",
    "idx = np.ix_(np.arange(3), idx_freq, idx_time)\n",
    "reduced_tfmaps =  mask * whitened_tfmaps[idx]"
   ]
  },
  {
   "cell_type": "code",
   "execution_count": null,
   "metadata": {
    "collapsed": false
   },
   "outputs": [],
   "source": [
    "reduced_tfmaps.shape"
   ]
  },
  {
   "cell_type": "raw",
   "metadata": {
    "collapsed": true
   },
   "source": [
    "incoherent_energy = (np.abs(whitened_tfmaps)**2).sum(axis=0)\n",
    "quantile = 1e-3\n",
    "threshold = np.quantile(incoherent_energy, 1-quantile)\n",
    "mask = incoherent_energy > threshold\n",
    "reduced_tfmaps = ..."
   ]
  },
  {
   "cell_type": "markdown",
   "metadata": {},
   "source": [
    "Il faut trouver ici un moyen de reduire le nombre de pixels tout en preservant l'axe frequentiel\n",
    "pour pouvoir continuer a appliquer la matrice de melange. Garder les indices temporels en memoire afin\n",
    "de pouvoir reconstruire le signal ensuite.\n",
    "\n",
    "Faire la selection en se basant seulement sur l'energie incoherente est probablement trop optimiste -- Perte de l'information de coincidence --> multiplication des clusters qui viennent du bruit"
   ]
  },
  {
   "cell_type": "markdown",
   "metadata": {},
   "source": [
    "## Apply pseudo inverse to observations\n",
    "Note: this produces an estimate of the signal time-frequency map assuming all source directions in the skygrid.\n",
    "To save time, this could be done **only** on selected/clusterized pixels (above a certain threshold)"
   ]
  },
  {
   "cell_type": "code",
   "execution_count": null,
   "metadata": {
    "collapsed": false
   },
   "outputs": [],
   "source": [
    "signal_estimate_tfmaps = np.einsum('ijkl,ljm->ijmk', mixing_whitened_inverse[:,idx_freq, ...], reduced_tfmaps)\n",
    "#signal_estimate_tfmaps = np.einsum('ijkl,ljm,jm->ijmk', mixing_whitened_inverse[:,idx_freq, ...], reduced_tfmaps, mask)\n",
    "response_estimate_tfmaps = np.einsum('ijkl,ijml->ikjm', mixing_whitened[:,idx_freq, ...], signal_estimate_tfmaps)\n",
    "estimation_error = np.linalg.norm(reduced_tfmaps[np.newaxis,:] \\\n",
    "                                    - response_estimate_tfmaps, \\\n",
    "                                         axis=(-2,-1)).sum(axis=-1)\n",
    "skymap = sky.feed(estimation_error)"
   ]
  },
  {
   "cell_type": "markdown",
   "metadata": {},
   "source": [
    "## Results and diagnosis plots"
   ]
  },
  {
   "cell_type": "markdown",
   "metadata": {},
   "source": [
    "### Localization"
   ]
  },
  {
   "cell_type": "raw",
   "metadata": {
    "collapsed": true
   },
   "source": [
    "MARKS = ['o','*','^','8','s','p','X','D','P']\n",
    "COLORS = ['w', 'g', 'r', 'c', 'm', 'y', 'k', 'b']"
   ]
  },
  {
   "cell_type": "code",
   "execution_count": null,
   "metadata": {
    "collapsed": false
   },
   "outputs": [],
   "source": [
    "injection_pt = Skypoint(np.radians(ra), np.radians(dec), \\\n",
    "                     'equatorial', 'injection')\n",
    "print(injection_pt)"
   ]
  },
  {
   "cell_type": "raw",
   "metadata": {
    "collapsed": false
   },
   "source": [
    "my_coords = [(179.5,0), (-180,0), (0,0), (0,-90), (0,90)]\n",
    "my_points = [Skypoint(*np.radians(c), lal.COORDINATESYSTEM_EQUATORIAL, 'p{}'.format(n)) \\\n",
    "                     for n, c in enumerate(my_coords)]\n",
    "print(my_points)"
   ]
  },
  {
   "cell_type": "raw",
   "metadata": {
    "collapsed": false
   },
   "source": [
    "skymap.display(\"localization skymap\")\n",
    "skymap.argmin().display('o','w')\n",
    "injection_pt.transform_to('geographic', time).display('*','w')\n",
    "for n,p in enumerate(my_points):\n",
    "    p.transform_to('geographic', time).display(MARKS[n], COLORS[n])\n",
    "plt.legend(loc='upper center', bbox_to_anchor=(1, 1),\n",
    "          ncol=2, fancybox=True, shadow=True, \\\n",
    "          facecolor=\"lightgray\", markerscale = 0.5)\n",
    "plt.show()"
   ]
  },
  {
   "cell_type": "code",
   "execution_count": null,
   "metadata": {
    "collapsed": false
   },
   "outputs": [],
   "source": [
    "skymap_equatorial = skymap.transform_to('equatorial', time)\n",
    "leastsquare_pt = skymap_equatorial.argmin('leastsquare')\n",
    "print(leastsquare_pt)"
   ]
  },
  {
   "cell_type": "code",
   "execution_count": null,
   "metadata": {
    "collapsed": false
   },
   "outputs": [],
   "source": [
    "skymap_equatorial.display(\"localization skymap\")\n",
    "leastsquare_pt.display('o','g')\n",
    "injection_pt.display('r','*')\n",
    "plt.legend(loc='upper center', bbox_to_anchor=(1, 1),\n",
    "            ncol=2, fancybox=True, shadow=True,\\\n",
    "            facecolor=\"lightgray\", markerscale = 1)\n",
    "plt.show()"
   ]
  },
  {
   "cell_type": "code",
   "execution_count": null,
   "metadata": {
    "collapsed": false,
    "scrolled": true
   },
   "outputs": [],
   "source": [
    "idx = estimation_error.argmin()\n",
    "fig, axes = plt.subplots(2, len(network))\n",
    "for n, d in enumerate(network):\n",
    "    axes[0,n].pcolormesh(np.abs(reduced_tfmaps[n,...]))\n",
    "    axes[0,n].set_title(d)\n",
    "    axes[1,n].pcolormesh(np.abs(response_estimate_tfmaps[idx,n,...]))\n",
    "plt.show()"
   ]
  },
  {
   "cell_type": "markdown",
   "metadata": {},
   "source": [
    "plot of polarizations here"
   ]
  },
  {
   "cell_type": "markdown",
   "metadata": {},
   "source": [
    "## Ideas about pixel selection"
   ]
  },
  {
   "cell_type": "raw",
   "metadata": {
    "collapsed": false
   },
   "source": [
    "from scipy.ndimage.measurements import label, histogram\n",
    "\n",
    "incoherent_energy = (np.abs(whitened_tfmaps)**2).sum(axis=0)\n",
    "\n",
    "quantile = 10**-1\n",
    "threshold = np.quantile(incoherent_energy, 1-quantile)\n",
    "mask = incoherent_energy > threshold\n",
    "clusters, n_clusters = label(mask)"
   ]
  },
  {
   "cell_type": "raw",
   "metadata": {
    "collapsed": false
   },
   "source": [
    "from scipy.ndimage.measurements import label, histogram\n",
    "\n",
    "incoherent_energy = (np.abs(whitened_tfmaps)**2).sum(axis=0)\n",
    "\n",
    "quantiles = 1e-4 # np.logspace(-4,-2,5)\n",
    "thresholds = np.quantile(incoherent_energy, 1-quantiles)\n",
    "print(thresholds)\n",
    "centers_of_mass = []\n",
    "for t in thresholds:\n",
    "    mask = incoherent_energy > t\n",
    "    clusters, n_clusters = label(mask)\n",
    "    # print(n_clusters)\n",
    "    h = histogram(clusters,min=1,max=n_clusters,bins=n_clusters)\n",
    "    idx = h.argsort()[::-1]\n",
    "    com = []\n",
    "    for ix in idx:\n",
    "        x, y = np.where(clusters == ix)\n",
    "        com.append(np.array([np.mean(y), np.mean(x)]))\n",
    "    #print(com)\n",
    "    #print(centers_of_mass)\n",
    "    if len(centers_of_mass) > 0:\n",
    "        dists = np.linalg.norm(np.array(com) - centers_of_mass)\n",
    "    else:\n",
    "        centers_of_mass.append(com)\n",
    "    #print(centers_of_mass)"
   ]
  },
  {
   "cell_type": "raw",
   "metadata": {},
   "source": [
    "from sklearn.cluster import KMeans\n",
    "kmeans = KMeans(n_clusters=4)\n",
    "kmeans.fit(points)"
   ]
  },
  {
   "cell_type": "raw",
   "metadata": {
    "collapsed": false
   },
   "source": [
    "incoherent_energy = (np.abs(reduced_tfmaps)**2).sum(axis=0)\n",
    "fig, axes = plt.subplots(1, 3)\n",
    "#axes[0].pcolormesh(clusters[15:50,250:350])\n",
    "axes[0].pcolormesh(mask * incoherent_energy)\n",
    "axes[1].pcolormesh(incoherent_energy)\n",
    "axes[2].pcolormesh(np.abs(reduced_tfmaps[0,...]))\n",
    "#axes[2].pcolormesh(np.abs(response_estimate_tfmaps[1028,0,:,:]))\n",
    "axes[2].colorbar()\n",
    "plt.show()"
   ]
  },
  {
   "cell_type": "markdown",
   "metadata": {},
   "source": [
    "## Tests with skymaps"
   ]
  },
  {
   "cell_type": "raw",
   "metadata": {
    "collapsed": false
   },
   "source": [
    "nside = 2\n",
    "grid = Skymap(nside, 'geographic', None, order='nested')\n",
    "npix = healpy.nside2npix(nside)\n",
    "idx = 30\n",
    "data = np.array(np.equal(np.arange(npix), idx), dtype=float)\n",
    "sm = grid.feed(data)\n",
    "ra = 0\n",
    "dec = 0\n",
    "pt = Skypoint(np.radians(ra), np.radians(dec),lal.COORDINATESYSTEM_EQUATORIAL,'dot')\n",
    "\n",
    "sm.transform_to('equatorial', time).display(\"map\")\n",
    "pt.display('s','w')\n",
    "\n",
    "sm.display(\"map\")\n",
    "pt.transform_to('geographic',time).display('s','w')\n"
   ]
  },
  {
   "cell_type": "raw",
   "metadata": {
    "collapsed": false
   },
   "source": [
    "nside = 8\n",
    "ra = 0\n",
    "dec = 0\n",
    "time = 1000000000 + 20000\n",
    "\n",
    "grid = Skymap(nside, 'geographic', None, order='nested')\n",
    "\n",
    "pt = Skypoint(np.radians(ra), np.radians(dec),lal.COORDINATESYSTEM_GEOGRAPHIC,'dot')\n",
    "\n",
    "npix = healpy.nside2npix(nside)\n",
    "idx = healpy.ang2pix(nside, ra, dec, nest=True, lonlat=True)\n",
    "data = np.array(np.equal(np.arange(npix), idx), dtype=float)\n",
    "sm = grid.feed(data)\n",
    "\n",
    "sm_rot, coords = sm.transform_to('equatorial', time)\n",
    "print(coords[0][idx], coords[1][idx])\n",
    "\n",
    "sm_rot.display(\"map\")\n",
    "\n",
    "pt_rot = pt.transform_to('equatorial', time)\n",
    "print(pt_rot)\n",
    "pt_rot.display('s','w')\n",
    "\n",
    "sm.display(\"map\")\n",
    "pt.display('s','w')\n"
   ]
  },
  {
   "cell_type": "code",
   "execution_count": null,
   "metadata": {
    "collapsed": true
   },
   "outputs": [],
   "source": []
  }
 ],
 "metadata": {
  "kernelspec": {
   "display_name": "pyburst",
   "language": "python",
   "name": "pyburst"
  },
  "language_info": {
   "codemirror_mode": {
    "name": "ipython",
    "version": 3
   },
   "file_extension": ".py",
   "mimetype": "text/x-python",
   "name": "python",
   "nbconvert_exporter": "python",
   "pygments_lexer": "ipython3",
   "version": "3.5.3"
  }
 },
 "nbformat": 4,
 "nbformat_minor": 2
}
